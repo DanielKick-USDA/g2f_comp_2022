{
 "cells": [
  {
   "cell_type": "code",
   "execution_count": 1,
   "id": "23f16a95",
   "metadata": {
    "ExecuteTime": {
     "end_time": "2022-12-23T02:01:33.385568Z",
     "start_time": "2022-12-23T02:01:32.610Z"
    }
   },
   "outputs": [
    {
     "name": "stderr",
     "output_type": "stream",
     "text": [
      "── \u001b[1mAttaching packages\u001b[22m ───────────────────────────────────────────────────────────────────────────────────── tidyverse 1.3.2 ──\n",
      "\u001b[32m✔\u001b[39m \u001b[34mggplot2\u001b[39m 3.4.0      \u001b[32m✔\u001b[39m \u001b[34mpurrr  \u001b[39m 1.0.0 \n",
      "\u001b[32m✔\u001b[39m \u001b[34mtibble \u001b[39m 3.1.8      \u001b[32m✔\u001b[39m \u001b[34mdplyr  \u001b[39m 1.0.10\n",
      "\u001b[32m✔\u001b[39m \u001b[34mtidyr  \u001b[39m 1.2.1      \u001b[32m✔\u001b[39m \u001b[34mstringr\u001b[39m 1.5.0 \n",
      "\u001b[32m✔\u001b[39m \u001b[34mreadr  \u001b[39m 2.1.3      \u001b[32m✔\u001b[39m \u001b[34mforcats\u001b[39m 0.5.2 \n",
      "── \u001b[1mConflicts\u001b[22m ──────────────────────────────────────────────────────────────────────────────────────── tidyverse_conflicts() ──\n",
      "\u001b[31m✖\u001b[39m \u001b[34mdplyr\u001b[39m::\u001b[32mfilter()\u001b[39m masks \u001b[34mstats\u001b[39m::filter()\n",
      "\u001b[31m✖\u001b[39m \u001b[34mdplyr\u001b[39m::\u001b[32mlag()\u001b[39m    masks \u001b[34mstats\u001b[39m::lag()\n",
      "\n",
      "Attaching package: ‘foreach’\n",
      "\n",
      "\n",
      "The following objects are masked from ‘package:purrr’:\n",
      "\n",
      "    accumulate, when\n",
      "\n",
      "\n",
      "\n",
      "Attaching package: ‘magrittr’\n",
      "\n",
      "\n",
      "The following object is masked from ‘package:purrr’:\n",
      "\n",
      "    set_names\n",
      "\n",
      "\n",
      "The following object is masked from ‘package:tidyr’:\n",
      "\n",
      "    extract\n",
      "\n",
      "\n"
     ]
    }
   ],
   "source": [
    "library('tidyverse')\n",
    "library(\"stringr\")\n",
    "library('purrr')\n",
    "\n",
    "library('foreach')\n",
    "library('magrittr')\n",
    "library('ggplot2')\n",
    "# library(BGLR)"
   ]
  },
  {
   "cell_type": "code",
   "execution_count": 2,
   "id": "13ce4d1b",
   "metadata": {
    "ExecuteTime": {
     "end_time": "2022-12-23T02:01:33.468603Z",
     "start_time": "2022-12-23T02:01:32.613Z"
    }
   },
   "outputs": [],
   "source": [
    "restrict_to_dist_from_2022 = TRUE\n",
    "restrict_to_geno = TRUE\n",
    "restrict_to_2022_hybrids = TRUE\n",
    "save_suffix = 'small'\n",
    "CV = 2014"
   ]
  },
  {
   "cell_type": "code",
   "execution_count": 3,
   "id": "8bef3a2b",
   "metadata": {
    "ExecuteTime": {
     "end_time": "2022-12-23T02:01:33.475432Z",
     "start_time": "2022-12-23T02:01:32.616Z"
    }
   },
   "outputs": [],
   "source": [
    "needed_matrices = c(\"GPC\",\n",
    "                    \"GA\",\n",
    "                    \"GD\",\n",
    "                    \"K.Soil\", \n",
    "                    \"K.Weather\"\n",
    ")"
   ]
  },
  {
   "cell_type": "code",
   "execution_count": 4,
   "id": "379267fc",
   "metadata": {
    "ExecuteTime": {
     "end_time": "2022-12-23T02:01:33.484533Z",
     "start_time": "2022-12-23T02:01:32.620Z"
    }
   },
   "outputs": [],
   "source": [
    "g_path = './data/Maize_GxE_Competition_Data/Training_Data/5_Genotype_Data_All_Years.vcf/'\n",
    "AMat_file =           'Centered_IBS_Imputed_Imputed_5_Genotype_Data_All_Years_pres80maf05mbp100_KNNimp_with_Probability.txt'\n",
    "DMat_file = 'Dominance_Centered_IBS_Imputed_Imputed_5_Genotype_Data_All_Years_pres80maf05mbp100_KNNimp_with_Probability.txt'\n",
    "GPC_file =                      'PC_Imputed_Imputed_5_Genotype_Data_All_Years_pres80maf05mbp100_KNNimp_with_Probability.txt'"
   ]
  },
  {
   "cell_type": "code",
   "execution_count": 5,
   "id": "a216bb5c",
   "metadata": {
    "ExecuteTime": {
     "end_time": "2022-12-23T02:01:33.493920Z",
     "start_time": "2022-12-23T02:01:32.625Z"
    }
   },
   "outputs": [
    {
     "data": {
      "text/html": [
       "<style>\n",
       ".list-inline {list-style: none; margin:0; padding: 0}\n",
       ".list-inline>li {display: inline-block}\n",
       ".list-inline>li:not(:last-child)::after {content: \"\\00b7\"; padding: 0 .5ex}\n",
       "</style>\n",
       "<ol class=list-inline><li>'cgmv0.csv'</li><li>'meta0.csv'</li><li>'phno0.csv'</li><li>'soil0.csv'</li><li>'wthr0.csv'</li><li>'wthrWide0.csv'</li></ol>\n"
      ],
      "text/latex": [
       "\\begin{enumerate*}\n",
       "\\item 'cgmv0.csv'\n",
       "\\item 'meta0.csv'\n",
       "\\item 'phno0.csv'\n",
       "\\item 'soil0.csv'\n",
       "\\item 'wthr0.csv'\n",
       "\\item 'wthrWide0.csv'\n",
       "\\end{enumerate*}\n"
      ],
      "text/markdown": [
       "1. 'cgmv0.csv'\n",
       "2. 'meta0.csv'\n",
       "3. 'phno0.csv'\n",
       "4. 'soil0.csv'\n",
       "5. 'wthr0.csv'\n",
       "6. 'wthrWide0.csv'\n",
       "\n",
       "\n"
      ],
      "text/plain": [
       "[1] \"cgmv0.csv\"     \"meta0.csv\"     \"phno0.csv\"     \"soil0.csv\"    \n",
       "[5] \"wthr0.csv\"     \"wthrWide0.csv\""
      ]
     },
     "metadata": {},
     "output_type": "display_data"
    }
   ],
   "source": [
    "list.files('./data/Processed/')"
   ]
  },
  {
   "cell_type": "code",
   "execution_count": null,
   "id": "9952d49c",
   "metadata": {
    "ExecuteTime": {
     "end_time": "2022-12-22T23:39:58.298662Z",
     "start_time": "2022-12-22T23:39:57.682Z"
    }
   },
   "outputs": [],
   "source": []
  },
  {
   "cell_type": "code",
   "execution_count": 6,
   "id": "1a73f17f",
   "metadata": {
    "ExecuteTime": {
     "end_time": "2022-12-23T02:01:35.290203Z",
     "start_time": "2022-12-23T02:01:32.629Z"
    }
   },
   "outputs": [],
   "source": [
    "data_loc <- './data/Processed/'\n",
    "\n",
    "phno <- read.csv(paste0(data_loc, 'phno0.csv'))\n",
    "phno <- phno[, c(\"Env\", \"Hybrid\", \"Year\", \"Yield_Mg_ha\")]\n",
    "meta <- read.csv(paste0(data_loc, 'meta0.csv'))\n",
    "soil <- read.csv(paste0(data_loc, 'soil0.csv'))\n",
    "wthr <- read.csv(paste0(data_loc, 'wthrWide0.csv'), skip = 1)\n",
    "# cgmv <- read.csv(paste0(data_loc, 'cgmv0.csv'))\n",
    "\n",
    "\n",
    "# Mask out of fold obeservations\n",
    "# phno[phno$Year != CV, \"Yield_Mg_ha\"] <- NA"
   ]
  },
  {
   "cell_type": "code",
   "execution_count": 7,
   "id": "9872dfe0",
   "metadata": {
    "ExecuteTime": {
     "end_time": "2022-12-23T02:01:35.296983Z",
     "start_time": "2022-12-23T02:01:32.630Z"
    }
   },
   "outputs": [],
   "source": [
    "# What's the smallest set that could be useful?\n",
    "\n",
    "# ignore imputation\n",
    "# in hybrid, in env\n",
    "\n",
    "# list.files('./data/Preparation/')"
   ]
  },
  {
   "cell_type": "markdown",
   "id": "99cdabe4",
   "metadata": {
    "ExecuteTime": {
     "end_time": "2022-12-22T15:45:48.149213Z",
     "start_time": "2022-12-22T15:45:48.081Z"
    }
   },
   "source": [
    "# Restrict Observations"
   ]
  },
  {
   "cell_type": "code",
   "execution_count": 8,
   "id": "c6b41303",
   "metadata": {
    "ExecuteTime": {
     "end_time": "2022-12-23T02:01:35.304043Z",
     "start_time": "2022-12-23T02:01:32.633Z"
    },
    "code_folding": [
     0
    ]
   },
   "outputs": [],
   "source": [
    "disallow_miss_env <- function(dfname = 'wthr'){\n",
    "    prep_path <- './data/Preparation/'\n",
    "    expect_csv <- paste0(dfname, '_Envs_miss.csv')\n",
    "\n",
    "    if(expect_csv %in% list.files(prep_path)){\n",
    "        return(read.csv(paste0(prep_path, expect_csv)))\n",
    "    }else{\n",
    "        print('File not found.')\n",
    "    }\n",
    "}"
   ]
  },
  {
   "cell_type": "code",
   "execution_count": 9,
   "id": "b48c4b06",
   "metadata": {
    "ExecuteTime": {
     "end_time": "2022-12-23T02:01:35.312145Z",
     "start_time": "2022-12-23T02:01:32.637Z"
    },
    "code_folding": [
     0
    ]
   },
   "outputs": [],
   "source": [
    "disallow_imp <- function(dfname = 'wthr'){\n",
    "    files_found <- list.files(prep_path)\n",
    "    detections <- stringr::str_detect(files_found, paste0(dfname, '_Envs_imp_.+'))\n",
    "    files_matched <- files_found[detections]\n",
    "\n",
    "    out_list <- purrr::map(files_matched, function(file_matched){\n",
    "        out = read.csv(paste0(prep_path, file_matched))\n",
    "\n",
    "        colname = stringr::str_extract(file_matched, '_imp_.+')\n",
    "        colname = stringr::str_replace(unlist(colname), '_imp_', '')\n",
    "        colname = stringr::str_replace(unlist(colname), '\\\\.csv', '')\n",
    "\n",
    "        out[['Imputed']] = colname\n",
    "        return(out)        \n",
    "    })\n",
    "    \n",
    "    out <- do.call(rbind, out_list)\n",
    "    return(out)\n",
    "}\n",
    "# NULL == disallow_imp(dfname = 'wthr')\n",
    "# disallow_imp(dfname = 'meta')"
   ]
  },
  {
   "cell_type": "markdown",
   "id": "920d7094",
   "metadata": {},
   "source": [
    "## Restrict based on missing wthr (not run)"
   ]
  },
  {
   "cell_type": "code",
   "execution_count": 10,
   "id": "b8ed4528",
   "metadata": {
    "ExecuteTime": {
     "end_time": "2022-12-23T02:01:35.319152Z",
     "start_time": "2022-12-23T02:01:32.640Z"
    }
   },
   "outputs": [],
   "source": [
    "# # restrict weather -- This makes sense for othe kinds of data but not wthr \n",
    "# # since it's downloaded from POWER. Retained as an illustrative template\n",
    "\n",
    "# restrict_to_nomiss_wthr = TRUE\n",
    "\n",
    "# rm_Envs = disallow_miss_env(dfname = 'wthr')\n",
    "# # confirm that no 2020 data is being removed\n",
    "# list_Envs <- rm_Envs[['Absent_Envs']]\n",
    "# list_2022_Envs <- \n",
    "# stopifnot({function (x) x == 0} (length(list_2022_Envs)))\n",
    "\n",
    "# # Remove disallowed envs\n",
    "# phno <- phno[!(phno$Env %in% list_Envs), ]"
   ]
  },
  {
   "cell_type": "code",
   "execution_count": 11,
   "id": "fac7c536",
   "metadata": {
    "ExecuteTime": {
     "end_time": "2022-12-23T02:01:35.328239Z",
     "start_time": "2022-12-23T02:01:32.642Z"
    }
   },
   "outputs": [
    {
     "data": {
      "text/html": [
       "<style>\n",
       ".list-inline {list-style: none; margin:0; padding: 0}\n",
       ".list-inline>li {display: inline-block}\n",
       ".list-inline>li:not(:last-child)::after {content: \"\\00b7\"; padding: 0 .5ex}\n",
       "</style>\n",
       "<ol class=list-inline><li>146057</li><li>4</li></ol>\n"
      ],
      "text/latex": [
       "\\begin{enumerate*}\n",
       "\\item 146057\n",
       "\\item 4\n",
       "\\end{enumerate*}\n"
      ],
      "text/markdown": [
       "1. 146057\n",
       "2. 4\n",
       "\n",
       "\n"
      ],
      "text/plain": [
       "[1] 146057      4"
      ]
     },
     "metadata": {},
     "output_type": "display_data"
    }
   ],
   "source": [
    "dim(phno)"
   ]
  },
  {
   "cell_type": "markdown",
   "id": "9513a554",
   "metadata": {},
   "source": [
    "## Restrict based on distance from 2022 sites"
   ]
  },
  {
   "cell_type": "code",
   "execution_count": 12,
   "id": "04c8f272",
   "metadata": {
    "ExecuteTime": {
     "end_time": "2022-12-23T02:01:35.555852Z",
     "start_time": "2022-12-23T02:01:32.644Z"
    }
   },
   "outputs": [],
   "source": [
    "# restrict_to_dist_from_2022 = TRUE\n",
    "\n",
    "# with distance of 1 this only has a minor affect 146,057 -> 132,925\n",
    "min_dist = 1\n",
    "\n",
    "if(restrict_to_dist_from_2022){\n",
    "    latlons <- meta[, c('Env', 'Year', 'Latitude_of_Field', 'Longitude_of_Field')] %>% distinct()\n",
    "    latlons2022 <- latlons[latlons$Year == 2022, ]\n",
    "    latlons['Pass'] = FALSE\n",
    "    latlons2022['Distance'] = FALSE\n",
    "\n",
    "    for(i in seq(1, nrow(latlons))){\n",
    "        lat <- latlons[i, 'Latitude_of_Field']\n",
    "        lon <- latlons[i, 'Longitude_of_Field']\n",
    "\n",
    "        latlons2022['Distance'] <- sqrt((latlons2022['Latitude_of_Field'] - lat)**2 + (latlons2022['Longitude_of_Field'] - lon)**2)\n",
    "\n",
    "        if(min(latlons2022['Distance']) <= min_dist){\n",
    "              latlons[i, 'Pass'] <- TRUE\n",
    "        }\n",
    "    }\n",
    "\n",
    "    pass_Envs <-unique(latlons[latlons$Pass, 'Env'])\n",
    "    fail_Envs <-unique(latlons[!(latlons$Pass), 'Env'])\n",
    "\n",
    "    # Confirm this isn't removing any 2022 observations\n",
    "    stopifnot(!(TRUE %in% stringr::str_detect(fail_Envs, '2022')))\n",
    "\n",
    "    phno <- phno[phno$Env %in% pass_Envs, ]   \n",
    "}"
   ]
  },
  {
   "cell_type": "code",
   "execution_count": 13,
   "id": "d5e6a99c",
   "metadata": {
    "ExecuteTime": {
     "end_time": "2022-12-23T02:01:35.564205Z",
     "start_time": "2022-12-23T02:01:32.647Z"
    }
   },
   "outputs": [
    {
     "data": {
      "text/html": [
       "<style>\n",
       ".list-inline {list-style: none; margin:0; padding: 0}\n",
       ".list-inline>li {display: inline-block}\n",
       ".list-inline>li:not(:last-child)::after {content: \"\\00b7\"; padding: 0 .5ex}\n",
       "</style>\n",
       "<ol class=list-inline><li>132925</li><li>4</li></ol>\n"
      ],
      "text/latex": [
       "\\begin{enumerate*}\n",
       "\\item 132925\n",
       "\\item 4\n",
       "\\end{enumerate*}\n"
      ],
      "text/markdown": [
       "1. 132925\n",
       "2. 4\n",
       "\n",
       "\n"
      ],
      "text/plain": [
       "[1] 132925      4"
      ]
     },
     "metadata": {},
     "output_type": "display_data"
    }
   ],
   "source": [
    "dim(phno)"
   ]
  },
  {
   "cell_type": "markdown",
   "id": "577c2b05",
   "metadata": {},
   "source": [
    "## Restrict based on 2022 Hybrids"
   ]
  },
  {
   "cell_type": "code",
   "execution_count": 14,
   "id": "a3a66382",
   "metadata": {
    "ExecuteTime": {
     "end_time": "2022-12-23T02:01:35.575689Z",
     "start_time": "2022-12-23T02:01:32.650Z"
    }
   },
   "outputs": [],
   "source": [
    "# restrict_to_2022_hybrids = TRUE\n",
    "\n",
    "# Remove observations for hybrids not in 2022\n",
    "# Note: Doing this _DRAMATICALLY_ reduces the number of observations\n",
    "# 146,057 -> 25,030\n",
    "\n",
    "if (restrict_to_2022_hybrids){\n",
    "    hybrids_in_2022 <- unique(phno[phno$Year == 2022, 'Hybrid'] )\n",
    "    phno <- phno[phno$Hybrid %in% hybrids_in_2022, ] \n",
    "}"
   ]
  },
  {
   "cell_type": "code",
   "execution_count": 15,
   "id": "0f089d04",
   "metadata": {
    "ExecuteTime": {
     "end_time": "2022-12-23T02:01:35.583918Z",
     "start_time": "2022-12-23T02:01:32.653Z"
    }
   },
   "outputs": [
    {
     "data": {
      "text/html": [
       "<style>\n",
       ".list-inline {list-style: none; margin:0; padding: 0}\n",
       ".list-inline>li {display: inline-block}\n",
       ".list-inline>li:not(:last-child)::after {content: \"\\00b7\"; padding: 0 .5ex}\n",
       "</style>\n",
       "<ol class=list-inline><li>23670</li><li>4</li></ol>\n"
      ],
      "text/latex": [
       "\\begin{enumerate*}\n",
       "\\item 23670\n",
       "\\item 4\n",
       "\\end{enumerate*}\n"
      ],
      "text/markdown": [
       "1. 23670\n",
       "2. 4\n",
       "\n",
       "\n"
      ],
      "text/plain": [
       "[1] 23670     4"
      ]
     },
     "metadata": {},
     "output_type": "display_data"
    }
   ],
   "source": [
    "dim(phno)"
   ]
  },
  {
   "cell_type": "markdown",
   "id": "5a3ed246",
   "metadata": {},
   "source": [
    "## Restrict based on available G data"
   ]
  },
  {
   "cell_type": "code",
   "execution_count": 16,
   "id": "2c425243",
   "metadata": {
    "ExecuteTime": {
     "end_time": "2022-12-23T02:01:50.454517Z",
     "start_time": "2022-12-23T02:01:32.655Z"
    }
   },
   "outputs": [],
   "source": [
    "# restrict_to_geno = TRUE\n",
    "\n",
    "if(restrict_to_geno){\n",
    "    # PCA info\n",
    "    geno <- read.table(paste0(\n",
    "        g_path,    \n",
    "        GPC_file\n",
    "    ), skip = 2, header = TRUE)\n",
    "\n",
    "    temp <- phno[!(phno$Hybrid %in% geno[['Taxa']]), 'Env']\n",
    "    # assert there are no values being removed from 2022\n",
    "    stopifnot(!(TRUE %in% stringr::str_detect(unique(temp), '2022')))\n",
    "\n",
    "    phno <- phno[(phno$Hybrid %in% geno[['Taxa']]), ] \n",
    "    rm(list = c('geno'))\n",
    "} "
   ]
  },
  {
   "cell_type": "code",
   "execution_count": 17,
   "id": "9f83ec58",
   "metadata": {
    "ExecuteTime": {
     "end_time": "2022-12-23T02:01:50.462553Z",
     "start_time": "2022-12-23T02:01:32.658Z"
    }
   },
   "outputs": [
    {
     "data": {
      "text/html": [
       "<style>\n",
       ".list-inline {list-style: none; margin:0; padding: 0}\n",
       ".list-inline>li {display: inline-block}\n",
       ".list-inline>li:not(:last-child)::after {content: \"\\00b7\"; padding: 0 .5ex}\n",
       "</style>\n",
       "<ol class=list-inline><li>23670</li><li>4</li></ol>\n"
      ],
      "text/latex": [
       "\\begin{enumerate*}\n",
       "\\item 23670\n",
       "\\item 4\n",
       "\\end{enumerate*}\n"
      ],
      "text/markdown": [
       "1. 23670\n",
       "2. 4\n",
       "\n",
       "\n"
      ],
      "text/plain": [
       "[1] 23670     4"
      ]
     },
     "metadata": {},
     "output_type": "display_data"
    }
   ],
   "source": [
    "dim(phno)"
   ]
  },
  {
   "cell_type": "markdown",
   "id": "109df61b",
   "metadata": {},
   "source": [
    "# Make matrices using (potentially) restricted phno"
   ]
  },
  {
   "cell_type": "markdown",
   "id": "6f21b61a",
   "metadata": {
    "heading_collapsed": true
   },
   "source": [
    "## Y "
   ]
  },
  {
   "cell_type": "code",
   "execution_count": 18,
   "id": "ff57db32",
   "metadata": {
    "ExecuteTime": {
     "end_time": "2022-12-23T02:01:50.478581Z",
     "start_time": "2022-12-23T02:01:32.661Z"
    },
    "hidden": true
   },
   "outputs": [],
   "source": [
    "Y <- as.matrix(phno['Yield_Mg_ha'])\n",
    "# Y \n",
    "# mask based on CV\n",
    "Y[phno$Year == CV] <- NA\n",
    "\n",
    "ystd = sd(Y, na.rm = T)\n",
    "ybar = mean(Y, na.rm = T)\n",
    "\n",
    "Y = (Y - ybar)/ystd"
   ]
  },
  {
   "cell_type": "code",
   "execution_count": null,
   "id": "68e663ab",
   "metadata": {
    "ExecuteTime": {
     "end_time": "2022-12-23T01:33:13.045806Z",
     "start_time": "2022-12-23T01:32:55.352Z"
    },
    "hidden": true
   },
   "outputs": [],
   "source": []
  },
  {
   "cell_type": "code",
   "execution_count": null,
   "id": "4ac31fbe",
   "metadata": {
    "hidden": true
   },
   "outputs": [],
   "source": []
  },
  {
   "cell_type": "markdown",
   "id": "8e8fd5ba",
   "metadata": {
    "heading_collapsed": true
   },
   "source": [
    "## GPC Matrix"
   ]
  },
  {
   "cell_type": "code",
   "execution_count": 19,
   "id": "869b9175",
   "metadata": {
    "ExecuteTime": {
     "end_time": "2022-12-23T02:01:50.484619Z",
     "start_time": "2022-12-23T02:01:32.664Z"
    },
    "hidden": true
   },
   "outputs": [],
   "source": [
    "# TODO"
   ]
  },
  {
   "cell_type": "code",
   "execution_count": null,
   "id": "ff1baabb",
   "metadata": {
    "hidden": true
   },
   "outputs": [],
   "source": []
  },
  {
   "cell_type": "code",
   "execution_count": null,
   "id": "6d71aa31",
   "metadata": {
    "hidden": true
   },
   "outputs": [],
   "source": []
  },
  {
   "cell_type": "markdown",
   "id": "6fe71767",
   "metadata": {
    "heading_collapsed": true
   },
   "source": [
    "## A Matrix"
   ]
  },
  {
   "cell_type": "code",
   "execution_count": 20,
   "id": "26de3fa7",
   "metadata": {
    "ExecuteTime": {
     "end_time": "2022-12-23T02:01:50.490674Z",
     "start_time": "2022-12-23T02:01:32.668Z"
    },
    "hidden": true
   },
   "outputs": [],
   "source": [
    "# if('GA' %in% needed_matrices){\n",
    "#     gc()\n",
    "#     geno <- read.table(paste0(\n",
    "#         g_path,    \n",
    "#         AMat_file\n",
    "#     ), skip = 3, header = FALSE)\n",
    "\n",
    "#     # make a nxn matrix to hold the A matrix\n",
    "#     geno_hybrid_index = geno[['V1']]\n",
    "\n",
    "#     Gdat = as.matrix(geno[, 2:ncol(geno)])\n",
    "    \n",
    "#     rownames(Gdat) = geno_hybrid_index\n",
    "#     colnames(Gdat) = geno_hybrid_index\n",
    "\n",
    "#     AMat <- Gdat[phno$Hybrid, phno$Hybrid]\n",
    "#     rm(list = c('Gdat', 'geno'))\n",
    "#     gc()    \n",
    "# }\n"
   ]
  },
  {
   "cell_type": "markdown",
   "id": "02fb34ee",
   "metadata": {
    "ExecuteTime": {
     "end_time": "2022-12-22T19:07:38.399736Z",
     "start_time": "2022-12-22T19:07:38.339Z"
    },
    "heading_collapsed": true
   },
   "source": [
    "## D Matrix"
   ]
  },
  {
   "cell_type": "code",
   "execution_count": 21,
   "id": "6ad96a98",
   "metadata": {
    "ExecuteTime": {
     "end_time": "2022-12-23T02:01:50.496835Z",
     "start_time": "2022-12-23T02:01:32.670Z"
    },
    "hidden": true
   },
   "outputs": [],
   "source": [
    "# if('GD' %in% needed_matrices){\n",
    "#     gc()\n",
    "#     geno <- read.table(paste0(\n",
    "#         g_path,    \n",
    "#         DMat_file\n",
    "#     ), skip = 3, header = FALSE)\n",
    "\n",
    "#     # make a nxn matrix to hold the A matrix\n",
    "#     geno_hybrid_index = geno[['V1']]\n",
    "\n",
    "#     Gdat = as.matrix(geno[, 2:ncol(geno)])\n",
    "    \n",
    "#     rownames(Gdat) = geno_hybrid_index\n",
    "#     colnames(Gdat) = geno_hybrid_index\n",
    "\n",
    "#     DMat <- Gdat[phno$Hybrid, phno$Hybrid]\n",
    "#     rm(list = c('Gdat', 'geno'))\n",
    "#     gc()    \n",
    "# }"
   ]
  },
  {
   "cell_type": "markdown",
   "id": "50f576e0",
   "metadata": {
    "heading_collapsed": true
   },
   "source": [
    "## K Soil Matrix"
   ]
  },
  {
   "cell_type": "code",
   "execution_count": 22,
   "id": "e1855ebd",
   "metadata": {
    "ExecuteTime": {
     "end_time": "2022-12-23T02:01:50.503151Z",
     "start_time": "2022-12-23T02:01:32.674Z"
    },
    "hidden": true
   },
   "outputs": [],
   "source": [
    "# if('K.soil' %in% needed_matrices){\n",
    "#     soil_Envs <- soil$Env\n",
    "\n",
    "#     soil_cols <- names(soil)[!(names(soil) %in% c('X', 'Env', 'Year'))]\n",
    "\n",
    "#     scalings = do.call(rbind, purrr::map(soil_cols, function(col){\n",
    "#         data.frame(col = c(col),\n",
    "#                    mean = mean(soil[soil$Year != CV, col], na.rm=TRUE),\n",
    "#                    std = sd(soil[soil$Year != CV, col], na.rm=TRUE))    \n",
    "#     }) )\n",
    "#     # TODO allow for saving of this df\n",
    "#     # scalings\n",
    "#     for(col in scalings$col){\n",
    "#         soil[col] <- ((soil[col]-scalings[scalings$col == col, 'mean'])/scalings[scalings$col == col, 'std'])\n",
    "#     }\n",
    "\n",
    "#     Sdat <- as.matrix(soil[, soil_cols])\n",
    "#     rownames(Sdat) <- soil_Envs\n",
    "\n",
    "#     K.soil <- tcrossprod(Sdat)\n",
    "#     K.soil <- K.soil/mean(diag(K.soil))\n",
    "#     K.soil <- K.soil[phno$Env, phno$Env]\n",
    "#     rm(list = c('Sdat'))\n",
    "#     gc()   \n",
    "# }"
   ]
  },
  {
   "cell_type": "markdown",
   "id": "13c65824",
   "metadata": {
    "heading_collapsed": true
   },
   "source": [
    "## K Weather Matrix"
   ]
  },
  {
   "cell_type": "code",
   "execution_count": 23,
   "id": "1ebaa931",
   "metadata": {
    "ExecuteTime": {
     "end_time": "2022-12-23T02:01:50.512612Z",
     "start_time": "2022-12-23T02:01:32.676Z"
    },
    "hidden": true
   },
   "outputs": [],
   "source": [
    "# if('K.weather' %in% needed_matrices){\n",
    "#     # wthr_Envs <- wthr$X # because wthr wide has two levels of indexing when I skip the \n",
    "#     # top level Env gets cut. \n",
    "#     wthr_Envs_Planted <- paste(wthr$X, wthr$X.1, sep = '__')\n",
    "\n",
    "#     # wthr_Envs\n",
    "#     weather_ECs <- c(\n",
    "#         'QV2M', 'T2MDEW', 'PS', 'RH2M', 'WS2M', 'GWETTOP', 'ALLSKY_SFC_SW_DWN', \n",
    "#         'ALLSKY_SFC_PAR_TOT', 'T2M_MAX', 'T2M_MIN', 'T2MWET', 'GWETROOT', 'T2M', \n",
    "#         'GWETPROF', 'ALLSKY_SFC_SW_DNI', 'PRECTOTCORR')\n",
    "\n",
    "#     # keep only ecs (have format EC_Day# )\n",
    "#     Wdat <- wthr[, names(wthr)[!(names(wthr) %in% c('variable', 'X'))]]\n",
    "\n",
    "\n",
    "\n",
    "#     fix_col_day_numbers <- function(colname = 'ALLSKY_SFC_PAR_TOT_Day1'){\n",
    "#         if(stringr::str_detect(colname, 'Day\\\\d+$')){\n",
    "#             daynum <- stringr::str_extract(colname, '\\\\d+$')\n",
    "#             if (as.numeric(daynum) >= 100){\n",
    "#                 daynum <- daynum\n",
    "#             } else if (as.numeric(daynum) >= 10){\n",
    "#                 daynum <- paste0('0', daynum)\n",
    "#             } else if (as.numeric(daynum) >= 1){\n",
    "#                 daynum <- paste0('00', daynum)\n",
    "#             }\n",
    "#             return(stringr::str_replace(colname, '\\\\d+$', daynum))\n",
    "#         } else {\n",
    "#             return(colname)\n",
    "#         }\n",
    "#     }\n",
    "\n",
    "#     # make sure the ECs are in a reasonable order\n",
    "#     newNames <- unlist(map(names(Wdat), function(e){fix_col_day_numbers(colname = e)}))\n",
    "#     names(Wdat) <- newNames\n",
    "#     Wdat <- Wdat[, sort(newNames)]\n",
    "\n",
    "#     Wdat <- as.matrix(Wdat)\n",
    "\n",
    "#     rownames(Wdat) <- wthr_Envs_Planted\n",
    "\n",
    "#     # Wdat#[, weather_ECs]\n",
    "\n",
    "\n",
    "\n",
    "#     # env.weather is a list of 8 objects\n",
    "#     # each object contains a matrix of 145 measurements x nObs\n",
    "#     # these values are drawn from the input df\n",
    "#     env.weather <- setNames(\n",
    "#       foreach(weather_EC=weather_ECs) %do% {\n",
    "\n",
    "#         # get the cols for each day's reading in form \n",
    "#         # \"max_temp1\", \"max_temp2\" ... max_temp145\"\n",
    "#         indx_of_weather_daily_vals = grep(paste0(\"^\", weather_EC, \"_\"), colnames(Wdat)) # <- Note: this underscore is critical to prevent \"P\" from not matching with photoperiod and PAR too. \n",
    "\n",
    "#         # this is in nObs x Daily value (145)\n",
    "#         E <- as.matrix(\n",
    "#           Wdat[, indx_of_weather_daily_vals]) %>% \n",
    "#           t # now it's Daily value x nObs\n",
    "\n",
    "#         # New as of 2022 12 22 This forces the dates to be in the right order.\n",
    "#         # i.e. so foo1 foo10, foo100... is replaced by foo1, foo2, foo3 ...\n",
    "#         E <- E[sort(rownames(E)),]\n",
    "#       }, \n",
    "#       weather_ECs) # setNames() makes the matrices in this list accessible by name\n",
    "\n",
    "#     make_ERM <- function(E_list, w, summary_functions = NULL) {\n",
    "#       # create a list of nObsxnObs matrices and `.combine` them by adding the matrices together\n",
    "#       # this results in a single nObsxnObs matrix aggregating all the enviromental covariates.\n",
    "\n",
    "#       foreach(E = E_list, .combine = \"+\") %do% {\n",
    "#         # Time bins\n",
    "#         windows <- cut_interval(1:nrow(E), length = w) # this function is from ggplot2\n",
    "#         # each 3 day period gets a new group:\n",
    "#         # [1] [0,3] [0,3] [0,3]     (3,6] (3,6] (3,6]     (6,9] ...  \n",
    "#         # [145] (144,147]\n",
    "#         # Why this isn't done with seq is beyond me. Possibly because it returns cuts?\n",
    "\n",
    "#         if (length(unique(windows)) == 1) {\n",
    "#           Z <- matrix(1, nrow = nrow(E), ncol = 1)\n",
    "#           # if the window length is one return a single column of ones\n",
    "\n",
    "#         } else {\n",
    "#           Z <- model.matrix( ~ windows)\n",
    "#           # for window size three this becomes\n",
    "\n",
    "#           #   intercept win2 win3 ...\n",
    "#           # 1         1    0    0      # The first group is the intercept\n",
    "#           # 2         1    0    0\n",
    "#           # 3         1    0    0\n",
    "#           # 4         1    1    0      # One hot encoded groups\n",
    "#           # 5         1    1    0\n",
    "#           # 6         1    1    0\n",
    "#           # 7         1    0    1\n",
    "#           # 8         1    0    1\n",
    "#           # 9         1    0    1\n",
    "#           # ...\n",
    "#         }\n",
    "\n",
    "#         # # Average by time bin\n",
    "#         # EC <- crossprod(Z,    # 145x49   window design matrix\n",
    "#         #                 E     # 145xnObs data matrix\n",
    "#         # ) %>% # 49xnObs \n",
    "#         #   t %>%          # flip nObsx49\n",
    "#         #   scale %>%      # center and scale each column\n",
    "#         #   t %>%          # flip 49xnObs\n",
    "#         #   na.omit\n",
    "\n",
    "#         # Updated processing: The adapted code did not account for using \n",
    "#         # management data where there might be no variability across groups (all\n",
    "#         # groups recieve no fertilizer on a given day). This adapted version \n",
    "#         # selectively scales entries to avoid these days becoming NA and being \n",
    "#         # removed.\n",
    "\n",
    "#         # Average by time bin\n",
    "#         EC <- crossprod(Z,    # 145x49   window design matrix\n",
    "#                         E     # 145xnObs data matrix\n",
    "#         ) %>% # 49xnObs\n",
    "#           t #%>%          # flip nObsx49\n",
    "#         # scale %>%      # center and scale each column\n",
    "#         # replaced because this is introducing nas into 0s for `N`, `P` where columns are all 0 (i.e. when no fertilizer was applied)\n",
    "#         # scale each column one at a time if and only if the sd != 0\n",
    "#         # This prevents values from becoming NA and thus keeps the dimensions to the expected size\n",
    "#         for(i in seq(1, ncol(EC))){\n",
    "#           if(sd(EC[,i]) != 0){\n",
    "#             EC[,i] = scale(EC[,i])\n",
    "#           } else {\n",
    "#             EC[,i] = scale(EC[,i], scale = FALSE)\n",
    "#           }\n",
    "#         }\n",
    "#         # and return to processing as normal\n",
    "#         EC <- EC %>%\n",
    "#           t %>%          # flip 49xnObs\n",
    "#           na.omit\n",
    "\n",
    "\n",
    "#         # Summary by time bin\n",
    "#         # This functionality is not used\n",
    "#         if (!is.null(summary_functions)) {\n",
    "#           EC_summary <- foreach(summary_function = summary_functions) %do% {\n",
    "#             summary_by_window <-\n",
    "#               by(E, windows, function(x)\n",
    "#                 apply(x, 2, summary_function))\n",
    "\n",
    "#             do.call(rbind, summary_by_window) %>% t %>% scale %>% t %>% na.omit\n",
    "#           } %>% as.list\n",
    "\n",
    "#           EC <- do.call(rbind, append(list(EC), EC_summary))\n",
    "#         }\n",
    "#         # Environmental relationship matrix\n",
    "#         return(crossprod(EC)) # Return a nObsxnObs matrix\n",
    "#       }\n",
    "#     }\n",
    "\n",
    "#     K.weather <- make_ERM(env.weather, w = 3) # Make an environmental relationship matrix of nObs x nObs\n",
    "#     K.weather <- K.weather/mean(diag(K.weather))\n",
    "#     gc()\n",
    "\n",
    "#     dim(K.weather)\n",
    "\n",
    "#     # Expand matrix to be the target size\n",
    "\n",
    "#     # there are some locations that have multiple planting dates for the same hybrids\n",
    "#     # e.g. ARH1_2016\tA3G-3-3-1-313/DK3IIH6\n",
    "#     # Due to time constraints I'm going to take the earliest for each Env x Hybrid and \n",
    "#     # accept that there will be some error introduced.\n",
    "#     # meta[, c(\"Env\", \"Hybrid\", 'Date_Planted')]  %>% distinct() %>% group_by(Env, Hybrid) %>% tally()\n",
    "\n",
    "#     meta_min <- meta[, c(\"Env\", \"Hybrid\", 'Date_Planted')]  %>% \n",
    "#         distinct() %>% \n",
    "#         group_by(Env, Hybrid) %>% \n",
    "#         mutate(Date_Planted = min(Date_Planted, na.rm = TRUE)) %>% \n",
    "#         mutate(Date_Planted = round(Date_Planted)) %>% \n",
    "#         mutate(Date_Planted = as.character(Date_Planted)) %>% \n",
    "\n",
    "#         distinct() %>% \n",
    "#         ungroup()\n",
    "\n",
    "\n",
    "#     wthr_matches <- dplyr::left_join(\n",
    "#         phno, \n",
    "#         meta_min, by = c('Env', 'Hybrid')) %>% \n",
    "#         mutate(Match_String = paste(Env, Date_Planted, sep = '__'))\n",
    "\n",
    "\n",
    "#     # There are a bunch of off by one errors in the names. This is the quick and\n",
    "#     # rough fix\n",
    "#     convert_Env_Planting <- data.frame(\n",
    "#         inPhno =      c(\"DEH1_2022__120\", \"GAH2_2022__116\", \"IAH1_2022__132\", \"IAH3_2022__134\", \"ILH1_2022__132\", \"INH1_2022__133\", \"MIH1_2022__138\", \"MOH2_2022__131\", \"NCH1_2022__112\", \"NEH2_2022__135\", \"NEH3_2022__135\", \"NYH2_2022__144\", \"NYH3_2022__144\", \"TXH1_2022__107\", \"TXH2_2022__107\", \"TXH3_2022__107\", \"WIH2_2022__137\", \"WIH3_2022__137\"),\n",
    "#         inK.weather = c('DEH1_2022__121', 'GAH2_2022__117', 'IAH1_2022__133', 'IAH3_2022__135', 'ILH1_2022__133', 'INH1_2022__134', 'MNH1_2022__137', 'MOH2_2022__132', 'NCH1_2022__113', 'NEH2_2022__136', 'NEH3_2022__136', 'NYH2_2022__145', 'NYH3_2022__145', 'TXH1_2022__108', 'TXH2_2022__108', 'TXH3_2022__108', 'WIH2_2022__138', 'WIH3_2022__138')    \n",
    "#     )\n",
    "\n",
    "#     for(i in 1:nrow(convert_Env_Planting)){\n",
    "#         mask <- wthr_matches$Match_String == convert_Env_Planting[i, 'inK.weather']\n",
    "#         wthr_matches[mask, 'Match_String'] <- convert_Env_Planting[i, 'inPhno']\n",
    "#     }\n",
    "#     # assert all are in wthr_matches / K.weather\n",
    "#     stopifnot(0==(wthr_matches$Match_String[!(wthr_matches$Match_String %in% rownames(K.weather))] %>% unique()))\n",
    "\n",
    "#     K.weather <- K.weather[wthr_matches$Match_String, wthr_matches$Match_String]\n",
    "    \n",
    "           \n",
    "\n",
    "#     rm(list = c('Wdat'))\n",
    "#     gc()   \n",
    "# }\n"
   ]
  },
  {
   "cell_type": "code",
   "execution_count": 24,
   "id": "5dcd157c",
   "metadata": {
    "ExecuteTime": {
     "end_time": "2022-12-23T02:01:50.518590Z",
     "start_time": "2022-12-23T02:01:32.678Z"
    },
    "hidden": true
   },
   "outputs": [],
   "source": [
    "# dim(K.weather)"
   ]
  },
  {
   "cell_type": "markdown",
   "id": "44a7743e",
   "metadata": {
    "ExecuteTime": {
     "end_time": "2022-12-23T01:28:52.886451Z",
     "start_time": "2022-12-23T01:28:52.651Z"
    }
   },
   "source": [
    "# Remake Systematically"
   ]
  },
  {
   "cell_type": "code",
   "execution_count": 25,
   "id": "2c72192f",
   "metadata": {
    "ExecuteTime": {
     "end_time": "2022-12-23T02:01:50.542928Z",
     "start_time": "2022-12-23T02:01:32.680Z"
    }
   },
   "outputs": [],
   "source": [
    "if(TRUE){\n",
    "    ## W (ERM) matrix ------------------------------------------------------------\n",
    "    matrix_file <- paste0(\"y_matrix\", \"_\", as.character(CV), \"_\", save_suffix, '.rds')        \n",
    "    matrix_file_path = paste0(\"./data/Processed/\", matrix_file)\n",
    "    if (matrix_file %in% list.files(\"./data/Processed/\")){\n",
    "        doNothing <- TRUE\n",
    "    } else {\n",
    "        Y <- as.matrix(phno['Yield_Mg_ha'])\n",
    "        # Y \n",
    "        # mask based on CV\n",
    "        Y[phno$Year == CV] <- NA\n",
    "\n",
    "        ystd = sd(Y, na.rm = T)\n",
    "        ybar = mean(Y, na.rm = T)\n",
    "\n",
    "        Y = (Y - ybar)/ystd\n",
    "        saveRDS(Y , file = matrix_file_path)\n",
    "     }\n",
    "}\n"
   ]
  },
  {
   "cell_type": "code",
   "execution_count": 26,
   "id": "efd405e5",
   "metadata": {
    "ExecuteTime": {
     "end_time": "2022-12-23T02:03:50.784669Z",
     "start_time": "2022-12-23T02:01:32.683Z"
    }
   },
   "outputs": [
    {
     "data": {
      "text/html": [
       "<table class=\"dataframe\">\n",
       "<caption>A matrix: 2 × 6 of type dbl</caption>\n",
       "<thead>\n",
       "\t<tr><th></th><th scope=col>used</th><th scope=col>(Mb)</th><th scope=col>gc trigger</th><th scope=col>(Mb)</th><th scope=col>max used</th><th scope=col>(Mb)</th></tr>\n",
       "</thead>\n",
       "<tbody>\n",
       "\t<tr><th scope=row>Ncells</th><td>  1127711</td><td>  60.3</td><td> 10412880</td><td> 556.2</td><td> 13096362</td><td> 699.5</td></tr>\n",
       "\t<tr><th scope=row>Vcells</th><td>574862121</td><td>4385.9</td><td>900328979</td><td>6869.0</td><td>623477001</td><td>4756.8</td></tr>\n",
       "</tbody>\n",
       "</table>\n"
      ],
      "text/latex": [
       "A matrix: 2 × 6 of type dbl\n",
       "\\begin{tabular}{r|llllll}\n",
       "  & used & (Mb) & gc trigger & (Mb) & max used & (Mb)\\\\\n",
       "\\hline\n",
       "\tNcells &   1127711 &   60.3 &  10412880 &  556.2 &  13096362 &  699.5\\\\\n",
       "\tVcells & 574862121 & 4385.9 & 900328979 & 6869.0 & 623477001 & 4756.8\\\\\n",
       "\\end{tabular}\n"
      ],
      "text/markdown": [
       "\n",
       "A matrix: 2 × 6 of type dbl\n",
       "\n",
       "| <!--/--> | used | (Mb) | gc trigger | (Mb) | max used | (Mb) |\n",
       "|---|---|---|---|---|---|---|\n",
       "| Ncells |   1127711 |   60.3 |  10412880 |  556.2 |  13096362 |  699.5 |\n",
       "| Vcells | 574862121 | 4385.9 | 900328979 | 6869.0 | 623477001 | 4756.8 |\n",
       "\n"
      ],
      "text/plain": [
       "       used      (Mb)   gc trigger (Mb)   max used  (Mb)  \n",
       "Ncells   1127711   60.3  10412880   556.2  13096362  699.5\n",
       "Vcells 574862121 4385.9 900328979  6869.0 623477001 4756.8"
      ]
     },
     "metadata": {},
     "output_type": "display_data"
    }
   ],
   "source": [
    "if(\"GA\" %in% needed_matrices){\n",
    "    ## W (ERM) matrix ------------------------------------------------------------\n",
    "    matrix_file <- paste0(\"GA_matrix\", \"_\", as.character(CV), \"_\", save_suffix, '.rds')        \n",
    "    matrix_file_path = paste0(\"./data/Processed/\", matrix_file)\n",
    "    if (matrix_file %in% list.files(\"./data/Processed/\")){\n",
    "        doNothing <- TRUE\n",
    "    } else {\n",
    "        gc()\n",
    "        geno <- read.table(paste0(\n",
    "            g_path,    \n",
    "            AMat_file\n",
    "        ), skip = 3, header = FALSE)\n",
    "\n",
    "        # make a nxn matrix to hold the A matrix\n",
    "        geno_hybrid_index = geno[['V1']]\n",
    "\n",
    "        Gdat = as.matrix(geno[, 2:ncol(geno)])\n",
    "\n",
    "        rownames(Gdat) = geno_hybrid_index\n",
    "        colnames(Gdat) = geno_hybrid_index\n",
    "\n",
    "        AMat <- Gdat[phno$Hybrid, phno$Hybrid]\n",
    "        saveRDS(AMat , file = matrix_file_path)\n",
    "        rm(list = c('Gdat', 'geno'))\n",
    "        gc()    \n",
    "     }\n",
    "}\n"
   ]
  },
  {
   "cell_type": "code",
   "execution_count": 27,
   "id": "2b19dfae",
   "metadata": {
    "ExecuteTime": {
     "end_time": "2022-12-23T02:04:24.169994Z",
     "start_time": "2022-12-23T02:01:32.685Z"
    }
   },
   "outputs": [
    {
     "data": {
      "text/html": [
       "<table class=\"dataframe\">\n",
       "<caption>A matrix: 2 × 6 of type dbl</caption>\n",
       "<thead>\n",
       "\t<tr><th></th><th scope=col>used</th><th scope=col>(Mb)</th><th scope=col>gc trigger</th><th scope=col>(Mb)</th><th scope=col>max used</th><th scope=col>(Mb)</th></tr>\n",
       "</thead>\n",
       "<tbody>\n",
       "\t<tr><th scope=row>Ncells</th><td>   1134137</td><td>  60.6</td><td>  10728678</td><td>  573</td><td>  13217793</td><td> 706.0</td></tr>\n",
       "\t<tr><th scope=row>Vcells</th><td>1135192688</td><td>8660.9</td><td>1707205002</td><td>13025</td><td>1208092757</td><td>9217.1</td></tr>\n",
       "</tbody>\n",
       "</table>\n"
      ],
      "text/latex": [
       "A matrix: 2 × 6 of type dbl\n",
       "\\begin{tabular}{r|llllll}\n",
       "  & used & (Mb) & gc trigger & (Mb) & max used & (Mb)\\\\\n",
       "\\hline\n",
       "\tNcells &    1134137 &   60.6 &   10728678 &   573 &   13217793 &  706.0\\\\\n",
       "\tVcells & 1135192688 & 8660.9 & 1707205002 & 13025 & 1208092757 & 9217.1\\\\\n",
       "\\end{tabular}\n"
      ],
      "text/markdown": [
       "\n",
       "A matrix: 2 × 6 of type dbl\n",
       "\n",
       "| <!--/--> | used | (Mb) | gc trigger | (Mb) | max used | (Mb) |\n",
       "|---|---|---|---|---|---|---|\n",
       "| Ncells |    1134137 |   60.6 |   10728678 |   573 |   13217793 |  706.0 |\n",
       "| Vcells | 1135192688 | 8660.9 | 1707205002 | 13025 | 1208092757 | 9217.1 |\n",
       "\n"
      ],
      "text/plain": [
       "       used       (Mb)   gc trigger (Mb)  max used   (Mb)  \n",
       "Ncells    1134137   60.6   10728678   573   13217793  706.0\n",
       "Vcells 1135192688 8660.9 1707205002 13025 1208092757 9217.1"
      ]
     },
     "metadata": {},
     "output_type": "display_data"
    }
   ],
   "source": [
    "if(\"GD\" %in% needed_matrices){\n",
    "    ## W (ERM) matrix ------------------------------------------------------------\n",
    "    matrix_file <- paste0(\"GD_matrix\", \"_\", as.character(CV), \"_\", save_suffix, '.rds')        \n",
    "    matrix_file_path = paste0(\"./data/Processed/\", matrix_file)\n",
    "    if (matrix_file %in% list.files(\"./data/Processed/\")){\n",
    "        doNothing <- TRUE\n",
    "    } else {\n",
    "        gc()\n",
    "        geno <- read.table(paste0(\n",
    "            g_path,    \n",
    "            DMat_file\n",
    "        ), skip = 3, header = FALSE)\n",
    "\n",
    "        # make a nxn matrix to hold the A matrix\n",
    "        geno_hybrid_index = geno[['V1']]\n",
    "\n",
    "        Gdat = as.matrix(geno[, 2:ncol(geno)])\n",
    "\n",
    "        rownames(Gdat) = geno_hybrid_index\n",
    "        colnames(Gdat) = geno_hybrid_index\n",
    "\n",
    "        DMat <- Gdat[phno$Hybrid, phno$Hybrid]\n",
    "        saveRDS(Gdat , file = matrix_file_path)\n",
    "        rm(list = c('Gdat', 'geno'))\n",
    "        gc()    \n",
    "    }\n",
    "}\n"
   ]
  },
  {
   "cell_type": "code",
   "execution_count": 28,
   "id": "b740ed7a",
   "metadata": {
    "ExecuteTime": {
     "end_time": "2022-12-23T02:04:50.463019Z",
     "start_time": "2022-12-23T02:01:32.688Z"
    }
   },
   "outputs": [
    {
     "data": {
      "text/html": [
       "<table class=\"dataframe\">\n",
       "<caption>A matrix: 2 × 6 of type dbl</caption>\n",
       "<thead>\n",
       "\t<tr><th></th><th scope=col>used</th><th scope=col>(Mb)</th><th scope=col>gc trigger</th><th scope=col>(Mb)</th><th scope=col>max used</th><th scope=col>(Mb)</th></tr>\n",
       "</thead>\n",
       "<tbody>\n",
       "\t<tr><th scope=row>Ncells</th><td>   1134829</td><td>   60.7</td><td>   8582943</td><td>  458.4</td><td>  13217793</td><td>  706.0</td></tr>\n",
       "\t<tr><th scope=row>Vcells</th><td>1695511706</td><td>12935.8</td><td>2048726002</td><td>15630.6</td><td>1695927332</td><td>12938.9</td></tr>\n",
       "</tbody>\n",
       "</table>\n"
      ],
      "text/latex": [
       "A matrix: 2 × 6 of type dbl\n",
       "\\begin{tabular}{r|llllll}\n",
       "  & used & (Mb) & gc trigger & (Mb) & max used & (Mb)\\\\\n",
       "\\hline\n",
       "\tNcells &    1134829 &    60.7 &    8582943 &   458.4 &   13217793 &   706.0\\\\\n",
       "\tVcells & 1695511706 & 12935.8 & 2048726002 & 15630.6 & 1695927332 & 12938.9\\\\\n",
       "\\end{tabular}\n"
      ],
      "text/markdown": [
       "\n",
       "A matrix: 2 × 6 of type dbl\n",
       "\n",
       "| <!--/--> | used | (Mb) | gc trigger | (Mb) | max used | (Mb) |\n",
       "|---|---|---|---|---|---|---|\n",
       "| Ncells |    1134829 |    60.7 |    8582943 |   458.4 |   13217793 |   706.0 |\n",
       "| Vcells | 1695511706 | 12935.8 | 2048726002 | 15630.6 | 1695927332 | 12938.9 |\n",
       "\n"
      ],
      "text/plain": [
       "       used       (Mb)    gc trigger (Mb)    max used   (Mb)   \n",
       "Ncells    1134829    60.7    8582943   458.4   13217793   706.0\n",
       "Vcells 1695511706 12935.8 2048726002 15630.6 1695927332 12938.9"
      ]
     },
     "metadata": {},
     "output_type": "display_data"
    }
   ],
   "source": [
    "if(\"K.Soil\" %in% needed_matrices){\n",
    "    ## W (ERM) matrix ------------------------------------------------------------\n",
    "    matrix_file <- paste0(\"Ksoil_matrix\", \"_\", as.character(CV), \"_\", save_suffix, '.rds')        \n",
    "    matrix_file_path = paste0(\"./data/Processed/\", matrix_file)\n",
    "    if (matrix_file %in% list.files(\"./data/Processed/\")){\n",
    "        doNothing <- TRUE\n",
    "    } else {\n",
    "        soil_Envs <- soil$Env\n",
    "\n",
    "        soil_cols <- names(soil)[!(names(soil) %in% c('X', 'Env', 'Year'))]\n",
    "\n",
    "        scalings = do.call(rbind, purrr::map(soil_cols, function(col){\n",
    "            data.frame(col = c(col),\n",
    "                       mean = mean(soil[soil$Year != CV, col], na.rm=TRUE),\n",
    "                       std = sd(soil[soil$Year != CV, col], na.rm=TRUE))    \n",
    "        }) )\n",
    "        # TODO allow for saving of this df\n",
    "        # scalings\n",
    "        for(col in scalings$col){\n",
    "            soil[col] <- ((soil[col]-scalings[scalings$col == col, 'mean'])/scalings[scalings$col == col, 'std'])\n",
    "        }\n",
    "\n",
    "        Sdat <- as.matrix(soil[, soil_cols])\n",
    "        rownames(Sdat) <- soil_Envs\n",
    "\n",
    "        K.soil <- tcrossprod(Sdat)\n",
    "        K.soil <- K.soil/mean(diag(K.soil))\n",
    "        K.soil <- K.soil[phno$Env, phno$Env]\n",
    "        \n",
    "        saveRDS(K.soil , file = matrix_file_path)\n",
    "        rm(list = c('Sdat'))\n",
    "        gc()  \n",
    "    }\n",
    "}\n"
   ]
  },
  {
   "cell_type": "code",
   "execution_count": 29,
   "id": "ae4b8959",
   "metadata": {
    "ExecuteTime": {
     "end_time": "2022-12-23T02:05:16.837907Z",
     "start_time": "2022-12-23T02:01:32.690Z"
    }
   },
   "outputs": [
    {
     "data": {
      "text/html": [
       "<table class=\"dataframe\">\n",
       "<caption>A matrix: 2 × 6 of type dbl</caption>\n",
       "<thead>\n",
       "\t<tr><th></th><th scope=col>used</th><th scope=col>(Mb)</th><th scope=col>gc trigger</th><th scope=col>(Mb)</th><th scope=col>max used</th><th scope=col>(Mb)</th></tr>\n",
       "</thead>\n",
       "<tbody>\n",
       "\t<tr><th scope=row>Ncells</th><td>   1193491</td><td>   63.8</td><td>   5493084</td><td>  293.4</td><td>  13217793</td><td>  706.0</td></tr>\n",
       "\t<tr><th scope=row>Vcells</th><td>1696958309</td><td>12946.8</td><td>2458551202</td><td>18757.3</td><td>2263040758</td><td>17265.7</td></tr>\n",
       "</tbody>\n",
       "</table>\n"
      ],
      "text/latex": [
       "A matrix: 2 × 6 of type dbl\n",
       "\\begin{tabular}{r|llllll}\n",
       "  & used & (Mb) & gc trigger & (Mb) & max used & (Mb)\\\\\n",
       "\\hline\n",
       "\tNcells &    1193491 &    63.8 &    5493084 &   293.4 &   13217793 &   706.0\\\\\n",
       "\tVcells & 1696958309 & 12946.8 & 2458551202 & 18757.3 & 2263040758 & 17265.7\\\\\n",
       "\\end{tabular}\n"
      ],
      "text/markdown": [
       "\n",
       "A matrix: 2 × 6 of type dbl\n",
       "\n",
       "| <!--/--> | used | (Mb) | gc trigger | (Mb) | max used | (Mb) |\n",
       "|---|---|---|---|---|---|---|\n",
       "| Ncells |    1193491 |    63.8 |    5493084 |   293.4 |   13217793 |   706.0 |\n",
       "| Vcells | 1696958309 | 12946.8 | 2458551202 | 18757.3 | 2263040758 | 17265.7 |\n",
       "\n"
      ],
      "text/plain": [
       "       used       (Mb)    gc trigger (Mb)    max used   (Mb)   \n",
       "Ncells    1193491    63.8    5493084   293.4   13217793   706.0\n",
       "Vcells 1696958309 12946.8 2458551202 18757.3 2263040758 17265.7"
      ]
     },
     "metadata": {},
     "output_type": "display_data"
    }
   ],
   "source": [
    "if(\"K.Weather\" %in% needed_matrices){\n",
    "    ## W (ERM) matrix ------------------------------------------------------------\n",
    "    matrix_file <- paste0(\"Kweather_matrix\", \"_\", as.character(CV), \"_\", save_suffix, '.rds')        \n",
    "    matrix_file_path = paste0(\"./data/Processed/\", matrix_file)\n",
    "    if (matrix_file %in% list.files(\"./data/Processed/\")){\n",
    "        doNothing <- TRUE\n",
    "    } else {\n",
    "        # wthr_Envs <- wthr$X # because wthr wide has two levels of indexing when I skip the \n",
    "        # top level Env gets cut. \n",
    "        wthr_Envs_Planted <- paste(wthr$X, wthr$X.1, sep = '__')\n",
    "\n",
    "        # wthr_Envs\n",
    "        weather_ECs <- c(\n",
    "            'QV2M', 'T2MDEW', 'PS', 'RH2M', 'WS2M', 'GWETTOP', 'ALLSKY_SFC_SW_DWN', \n",
    "            'ALLSKY_SFC_PAR_TOT', 'T2M_MAX', 'T2M_MIN', 'T2MWET', 'GWETROOT', 'T2M', \n",
    "            'GWETPROF', 'ALLSKY_SFC_SW_DNI', 'PRECTOTCORR')\n",
    "\n",
    "        # keep only ecs (have format EC_Day# )\n",
    "        Wdat <- wthr[, names(wthr)[!(names(wthr) %in% c('variable', 'X'))]]\n",
    "\n",
    "\n",
    "\n",
    "        fix_col_day_numbers <- function(colname = 'ALLSKY_SFC_PAR_TOT_Day1'){\n",
    "            if(stringr::str_detect(colname, 'Day\\\\d+$')){\n",
    "                daynum <- stringr::str_extract(colname, '\\\\d+$')\n",
    "                if (as.numeric(daynum) >= 100){\n",
    "                    daynum <- daynum\n",
    "                } else if (as.numeric(daynum) >= 10){\n",
    "                    daynum <- paste0('0', daynum)\n",
    "                } else if (as.numeric(daynum) >= 1){\n",
    "                    daynum <- paste0('00', daynum)\n",
    "                }\n",
    "                return(stringr::str_replace(colname, '\\\\d+$', daynum))\n",
    "            } else {\n",
    "                return(colname)\n",
    "            }\n",
    "        }\n",
    "\n",
    "        # make sure the ECs are in a reasonable order\n",
    "        newNames <- unlist(map(names(Wdat), function(e){fix_col_day_numbers(colname = e)}))\n",
    "        names(Wdat) <- newNames\n",
    "        Wdat <- Wdat[, sort(newNames)]\n",
    "\n",
    "        Wdat <- as.matrix(Wdat)\n",
    "\n",
    "        rownames(Wdat) <- wthr_Envs_Planted\n",
    "\n",
    "        # Wdat#[, weather_ECs]\n",
    "\n",
    "\n",
    "\n",
    "        # env.weather is a list of 8 objects\n",
    "        # each object contains a matrix of 145 measurements x nObs\n",
    "        # these values are drawn from the input df\n",
    "        env.weather <- setNames(\n",
    "          foreach(weather_EC=weather_ECs) %do% {\n",
    "\n",
    "            # get the cols for each day's reading in form \n",
    "            # \"max_temp1\", \"max_temp2\" ... max_temp145\"\n",
    "            indx_of_weather_daily_vals = grep(paste0(\"^\", weather_EC, \"_\"), colnames(Wdat)) # <- Note: this underscore is critical to prevent \"P\" from not matching with photoperiod and PAR too. \n",
    "\n",
    "            # this is in nObs x Daily value (145)\n",
    "            E <- as.matrix(\n",
    "              Wdat[, indx_of_weather_daily_vals]) %>% \n",
    "              t # now it's Daily value x nObs\n",
    "\n",
    "            # New as of 2022 12 22 This forces the dates to be in the right order.\n",
    "            # i.e. so foo1 foo10, foo100... is replaced by foo1, foo2, foo3 ...\n",
    "            E <- E[sort(rownames(E)),]\n",
    "          }, \n",
    "          weather_ECs) # setNames() makes the matrices in this list accessible by name\n",
    "\n",
    "        make_ERM <- function(E_list, w, summary_functions = NULL) {\n",
    "          # create a list of nObsxnObs matrices and `.combine` them by adding the matrices together\n",
    "          # this results in a single nObsxnObs matrix aggregating all the enviromental covariates.\n",
    "\n",
    "          foreach(E = E_list, .combine = \"+\") %do% {\n",
    "            # Time bins\n",
    "            windows <- cut_interval(1:nrow(E), length = w) # this function is from ggplot2\n",
    "            # each 3 day period gets a new group:\n",
    "            # [1] [0,3] [0,3] [0,3]     (3,6] (3,6] (3,6]     (6,9] ...  \n",
    "            # [145] (144,147]\n",
    "            # Why this isn't done with seq is beyond me. Possibly because it returns cuts?\n",
    "\n",
    "            if (length(unique(windows)) == 1) {\n",
    "              Z <- matrix(1, nrow = nrow(E), ncol = 1)\n",
    "              # if the window length is one return a single column of ones\n",
    "\n",
    "            } else {\n",
    "              Z <- model.matrix( ~ windows)\n",
    "              # for window size three this becomes\n",
    "\n",
    "              #   intercept win2 win3 ...\n",
    "              # 1         1    0    0      # The first group is the intercept\n",
    "              # 2         1    0    0\n",
    "              # 3         1    0    0\n",
    "              # 4         1    1    0      # One hot encoded groups\n",
    "              # 5         1    1    0\n",
    "              # 6         1    1    0\n",
    "              # 7         1    0    1\n",
    "              # 8         1    0    1\n",
    "              # 9         1    0    1\n",
    "              # ...\n",
    "            }\n",
    "\n",
    "            # # Average by time bin\n",
    "            # EC <- crossprod(Z,    # 145x49   window design matrix\n",
    "            #                 E     # 145xnObs data matrix\n",
    "            # ) %>% # 49xnObs \n",
    "            #   t %>%          # flip nObsx49\n",
    "            #   scale %>%      # center and scale each column\n",
    "            #   t %>%          # flip 49xnObs\n",
    "            #   na.omit\n",
    "\n",
    "            # Updated processing: The adapted code did not account for using \n",
    "            # management data where there might be no variability across groups (all\n",
    "            # groups recieve no fertilizer on a given day). This adapted version \n",
    "            # selectively scales entries to avoid these days becoming NA and being \n",
    "            # removed.\n",
    "\n",
    "            # Average by time bin\n",
    "            EC <- crossprod(Z,    # 145x49   window design matrix\n",
    "                            E     # 145xnObs data matrix\n",
    "            ) %>% # 49xnObs\n",
    "              t #%>%          # flip nObsx49\n",
    "            # scale %>%      # center and scale each column\n",
    "            # replaced because this is introducing nas into 0s for `N`, `P` where columns are all 0 (i.e. when no fertilizer was applied)\n",
    "            # scale each column one at a time if and only if the sd != 0\n",
    "            # This prevents values from becoming NA and thus keeps the dimensions to the expected size\n",
    "            for(i in seq(1, ncol(EC))){\n",
    "              if(sd(EC[,i]) != 0){\n",
    "                EC[,i] = scale(EC[,i])\n",
    "              } else {\n",
    "                EC[,i] = scale(EC[,i], scale = FALSE)\n",
    "              }\n",
    "            }\n",
    "            # and return to processing as normal\n",
    "            EC <- EC %>%\n",
    "              t %>%          # flip 49xnObs\n",
    "              na.omit\n",
    "\n",
    "\n",
    "            # Summary by time bin\n",
    "            # This functionality is not used\n",
    "            if (!is.null(summary_functions)) {\n",
    "              EC_summary <- foreach(summary_function = summary_functions) %do% {\n",
    "                summary_by_window <-\n",
    "                  by(E, windows, function(x)\n",
    "                    apply(x, 2, summary_function))\n",
    "\n",
    "                do.call(rbind, summary_by_window) %>% t %>% scale %>% t %>% na.omit\n",
    "              } %>% as.list\n",
    "\n",
    "              EC <- do.call(rbind, append(list(EC), EC_summary))\n",
    "            }\n",
    "            # Environmental relationship matrix\n",
    "            return(crossprod(EC)) # Return a nObsxnObs matrix\n",
    "          }\n",
    "        }\n",
    "\n",
    "        K.weather <- make_ERM(env.weather, w = 3) # Make an environmental relationship matrix of nObs x nObs\n",
    "        K.weather <- K.weather/mean(diag(K.weather))\n",
    "        gc()\n",
    "\n",
    "#         dim(K.weather)\n",
    "\n",
    "        # Expand matrix to be the target size\n",
    "\n",
    "        # there are some locations that have multiple planting dates for the same hybrids\n",
    "        # e.g. ARH1_2016\tA3G-3-3-1-313/DK3IIH6\n",
    "        # Due to time constraints I'm going to take the earliest for each Env x Hybrid and \n",
    "        # accept that there will be some error introduced.\n",
    "        # meta[, c(\"Env\", \"Hybrid\", 'Date_Planted')]  %>% distinct() %>% group_by(Env, Hybrid) %>% tally()\n",
    "\n",
    "        meta_min <- meta[, c(\"Env\", \"Hybrid\", 'Date_Planted')]  %>% \n",
    "            distinct() %>% \n",
    "            group_by(Env, Hybrid) %>% \n",
    "            mutate(Date_Planted = min(Date_Planted, na.rm = TRUE)) %>% \n",
    "            mutate(Date_Planted = round(Date_Planted)) %>% \n",
    "            mutate(Date_Planted = as.character(Date_Planted)) %>% \n",
    "\n",
    "            distinct() %>% \n",
    "            ungroup()\n",
    "\n",
    "\n",
    "        wthr_matches <- dplyr::left_join(\n",
    "            phno, \n",
    "            meta_min, by = c('Env', 'Hybrid')) %>% \n",
    "            mutate(Match_String = paste(Env, Date_Planted, sep = '__'))\n",
    "\n",
    "\n",
    "        # There are a bunch of off by one errors in the names. This is the quick and\n",
    "        # rough fix\n",
    "        convert_Env_Planting <- data.frame(\n",
    "            inPhno =      c(\"DEH1_2022__120\", \"GAH2_2022__116\", \"IAH1_2022__132\", \"IAH3_2022__134\", \"ILH1_2022__132\", \"INH1_2022__133\", \"MIH1_2022__138\", \"MOH2_2022__131\", \"NCH1_2022__112\", \"NEH2_2022__135\", \"NEH3_2022__135\", \"NYH2_2022__144\", \"NYH3_2022__144\", \"TXH1_2022__107\", \"TXH2_2022__107\", \"TXH3_2022__107\", \"WIH2_2022__137\", \"WIH3_2022__137\"),\n",
    "            inK.weather = c('DEH1_2022__121', 'GAH2_2022__117', 'IAH1_2022__133', 'IAH3_2022__135', 'ILH1_2022__133', 'INH1_2022__134', 'MNH1_2022__137', 'MOH2_2022__132', 'NCH1_2022__113', 'NEH2_2022__136', 'NEH3_2022__136', 'NYH2_2022__145', 'NYH3_2022__145', 'TXH1_2022__108', 'TXH2_2022__108', 'TXH3_2022__108', 'WIH2_2022__138', 'WIH3_2022__138')    \n",
    "        )\n",
    "\n",
    "        for(i in 1:nrow(convert_Env_Planting)){\n",
    "            mask <- wthr_matches$Match_String == convert_Env_Planting[i, 'inK.weather']\n",
    "            wthr_matches[mask, 'Match_String'] <- convert_Env_Planting[i, 'inPhno']\n",
    "        }\n",
    "        # assert all are in wthr_matches / K.weather\n",
    "        stopifnot(0==(wthr_matches$Match_String[!(wthr_matches$Match_String %in% rownames(K.weather))] %>% unique()))\n",
    "\n",
    "        K.weather <- K.weather[wthr_matches$Match_String, wthr_matches$Match_String]\n",
    "\n",
    "        saveRDS(K.weather , file = matrix_file_path)\n",
    "\n",
    "        rm(list = c('Wdat', 'K.weather'))\n",
    "        gc()   \n",
    "    }\n",
    "}"
   ]
  },
  {
   "cell_type": "code",
   "execution_count": 31,
   "id": "59c94777",
   "metadata": {
    "ExecuteTime": {
     "end_time": "2022-12-23T02:13:50.173205Z",
     "start_time": "2022-12-23T02:13:50.109Z"
    }
   },
   "outputs": [],
   "source": [
    "matrix_file <- paste0(\"phno_ref\", \"_\", as.character(CV), \"_\", save_suffix, '.csv')        \n",
    "matrix_file_path = paste0(\"./data/Processed/\", matrix_file)\n",
    "write.csv(phno, matrix_file_path)"
   ]
  },
  {
   "cell_type": "code",
   "execution_count": null,
   "id": "1f6cca6d",
   "metadata": {
    "ExecuteTime": {
     "end_time": "2022-12-23T02:13:17.375942Z",
     "start_time": "2022-12-23T02:13:17.317Z"
    }
   },
   "outputs": [],
   "source": []
  }
 ],
 "metadata": {
  "kernelspec": {
   "display_name": "R",
   "language": "R",
   "name": "ir"
  },
  "language_info": {
   "codemirror_mode": "r",
   "file_extension": ".r",
   "mimetype": "text/x-r-source",
   "name": "R",
   "pygments_lexer": "r",
   "version": "4.2.2"
  },
  "toc": {
   "base_numbering": 1,
   "nav_menu": {},
   "number_sections": true,
   "sideBar": true,
   "skip_h1_title": false,
   "title_cell": "Table of Contents",
   "title_sidebar": "Contents",
   "toc_cell": false,
   "toc_position": {
    "height": "calc(100% - 180px)",
    "left": "10px",
    "top": "150px",
    "width": "595.6px"
   },
   "toc_section_display": true,
   "toc_window_display": false
  }
 },
 "nbformat": 4,
 "nbformat_minor": 5
}
