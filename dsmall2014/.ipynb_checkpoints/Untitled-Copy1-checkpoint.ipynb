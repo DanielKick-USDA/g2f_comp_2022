{
 "cells": [
  {
   "cell_type": "code",
   "execution_count": 2,
   "id": "8c508bff",
   "metadata": {
    "ExecuteTime": {
     "end_time": "2023-01-12T22:43:56.550698Z",
     "start_time": "2023-01-12T22:43:42.463Z"
    }
   },
   "outputs": [
    {
     "name": "stdout",
     "output_type": "stream",
     "text": [
      "[1] \"Current pwd is:\"\n",
      "[1] \"/home/labmember/Documents/Kick/g2f_comp/dsmall2014\"\n"
     ]
    }
   ],
   "source": [
    "library(BGLR)\n",
    "# Settings ---------------------------------------------------------------------\n",
    "# EDITME #######################################################################\n",
    "model_name = 'As'\n",
    "save_suffix = 'small'\n",
    "CV = 2014\n",
    "\n",
    "# for(replicate in 1:3){\n",
    "  # iterations based on those in \n",
    "  # https://www.ncbi.nlm.nih.gov/pmc/articles/PMC9434216/\n",
    "  BGLR_nIter = 10000  \n",
    "  BGLR_burnIn=  5000 \n",
    "  BGLR_RegType = \"RKHS\"\n",
    "  \n",
    "  test_downsample = TRUE \n",
    "  \n",
    "  Y_Train <- readRDS(paste0('../data/Processed/y_matrix_', \n",
    "                            as.character(CV), \"_\", save_suffix, '.rds'))\n",
    "  GA <- readRDS(paste0(\n",
    "      \"../data/Processed/GA_matrix_\", as.character(CV), \"_\", save_suffix, '.rds'))\n",
    "  # GD <- readRDS(paste0(\n",
    "  #     \"../data/Processed/GD_matrix_\", as.character(CV), \"_\", save_suffix, '.rds'))\n",
    "  \n",
    "  BGLR_Model_List <- list(\n",
    "        G=list(K   = GA,         model = BGLR_RegType)\n",
    "  )\n",
    "  \n",
    "  ################################################################################\n",
    "  \n",
    "  \n",
    "  # Quick Confirmations ----------------------------------------------------------\n",
    "  print(\"Current pwd is:\")\n",
    "  print(getwd())\n",
    "  # Matrix Setup -----------------------------------------------------------------\n",
    "  \n",
    "  if(test_downsample){\n",
    "    subset_idx <- sample(1:length(Y_Train))[1:100]#1000]\n",
    "    Y_Train <- Y_Train[subset_idx]\n",
    "    GA <- GA[subset_idx, subset_idx]    \n",
    "  }\n",
    "  "
   ]
  },
  {
   "cell_type": "code",
   "execution_count": null,
   "id": "f18bf700",
   "metadata": {
    "ExecuteTime": {
     "start_time": "2023-01-12T22:43:59.350Z"
    }
   },
   "outputs": [
    {
     "data": {
      "text/html": [
       "<table class=\"dataframe\">\n",
       "<caption>A matrix: 2 × 6 of type dbl</caption>\n",
       "<thead>\n",
       "\t<tr><th></th><th scope=col>used</th><th scope=col>(Mb)</th><th scope=col>gc trigger</th><th scope=col>(Mb)</th><th scope=col>max used</th><th scope=col>(Mb)</th></tr>\n",
       "</thead>\n",
       "<tbody>\n",
       "\t<tr><th scope=row>Ncells</th><td>   632772</td><td>  33.8</td><td>   1353261</td><td>   72.3</td><td>   1353261</td><td>  72.3</td></tr>\n",
       "\t<tr><th scope=row>Vcells</th><td>561487541</td><td>4283.9</td><td>1348274710</td><td>10286.6</td><td>1122036272</td><td>8560.5</td></tr>\n",
       "</tbody>\n",
       "</table>\n"
      ],
      "text/latex": [
       "A matrix: 2 × 6 of type dbl\n",
       "\\begin{tabular}{r|llllll}\n",
       "  & used & (Mb) & gc trigger & (Mb) & max used & (Mb)\\\\\n",
       "\\hline\n",
       "\tNcells &    632772 &   33.8 &    1353261 &    72.3 &    1353261 &   72.3\\\\\n",
       "\tVcells & 561487541 & 4283.9 & 1348274710 & 10286.6 & 1122036272 & 8560.5\\\\\n",
       "\\end{tabular}\n"
      ],
      "text/markdown": [
       "\n",
       "A matrix: 2 × 6 of type dbl\n",
       "\n",
       "| <!--/--> | used | (Mb) | gc trigger | (Mb) | max used | (Mb) |\n",
       "|---|---|---|---|---|---|---|\n",
       "| Ncells |    632772 |   33.8 |    1353261 |    72.3 |    1353261 |   72.3 |\n",
       "| Vcells | 561487541 | 4283.9 | 1348274710 | 10286.6 | 1122036272 | 8560.5 |\n",
       "\n"
      ],
      "text/plain": [
       "       used      (Mb)   gc trigger (Mb)    max used   (Mb)  \n",
       "Ncells    632772   33.8    1353261    72.3    1353261   72.3\n",
       "Vcells 561487541 4283.9 1348274710 10286.6 1122036272 8560.5"
      ]
     },
     "metadata": {},
     "output_type": "display_data"
    },
    {
     "name": "stderr",
     "output_type": "stream",
     "text": [
      "\n",
      "\n",
      "\n",
      "#--------------------------------------------------------------------#\n",
      "\n",
      "#        _\\\\|//_                                                     #\n",
      "\n",
      "#       (` o-o ')      BGLR v1.1.0                                   #\n",
      "\n",
      "#------ooO-(_)-Ooo---------------------------------------------------#\n",
      "\n",
      "#                      Bayesian Generalized Linear Regression        #\n",
      "\n",
      "#                      Gustavo de los Campos, gdeloscampos@gmail.com #\n",
      "\n",
      "#    .oooO     Oooo.   Paulino Perez-Rodriguez, perpdgo@gmail.com    #\n",
      "\n",
      "#    (   )     (   )   April, 2022                                   #\n",
      "\n",
      "#_____\\ (_______) /_________________________________________________ #\n",
      "\n",
      "#      \\_)     (_/                                                   #\n",
      "\n",
      "#                                                                    #\n",
      "\n",
      "#------------------------------------------------------------------- #\n",
      "\n",
      "\n",
      "\n",
      "\n",
      "Warning message in sweep(LT$K, 1L, weights, \"*\"):\n",
      "“STATS does not recycle exactly across MARGIN”\n",
      "Warning message in sweep(sweep(LT$K, 1L, weights, \"*\"), 2L, weights, \"*\"):\n",
      "“STATS does not recycle exactly across MARGIN”\n"
     ]
    }
   ],
   "source": [
    "  # Fit the model! ---------------------------------------------------------------\n",
    "  gc()\n",
    "  model_start <- Sys.time()\n",
    "  fm <- BGLR(\n",
    "    y = Y_Train,\n",
    "    ETA = BGLR_Model_List,\n",
    "    nIter = BGLR_nIter,\n",
    "    burnIn = BGLR_burnIn\n",
    "  )\n",
    "  model_end <- Sys.time()\n",
    "  gc()\n",
    "  \n",
    "  model_time <- model_end - model_start\n",
    "  # write out log file with times\n",
    "  fm_run_time <- as.data.frame(\n",
    "    list(model_start, model_end, model_time),\n",
    "    col.names = c(\"Start\", \"End\", \"Duration\")\n",
    "  )"
   ]
  },
  {
   "cell_type": "code",
   "execution_count": null,
   "id": "6e8d505f",
   "metadata": {},
   "outputs": [],
   "source": [
    "#   write.csv(fm_run_time, paste0(\"../data/Shared_Model_Output/\", model_name, as.character(replicate), \"BlupRunTime.csv\"))\n",
    "  \n",
    "  # Save Model & Predictions  ----------------------------------------------------\n",
    "  # plot(Y, fm$yHat)\n",
    "  # save out model\n",
    "  # saveRDS(fm, file = \"../fm\", model_name, \".rds\")\n",
    "  \n",
    "  # save out predictions.\n",
    "  Y_ObsPr = as.data.frame(\n",
    "    list(Y_Train, fm$yHat), \n",
    "    col.names = c(\"YTrain\", \"YHat\"))\n",
    "  \n",
    "  write.csv(Y_ObsPr, paste0(\"../data/Shared_Model_Output/\", model_name, as.character(CV), as.character(replicate), \"BlupYHats.csv\"))\n",
    "  \n",
    "  # rm and gc\n",
    "  rm(list = c('fm'))\n",
    "  gc()\n",
    "# }"
   ]
  }
 ],
 "metadata": {
  "kernelspec": {
   "display_name": "R",
   "language": "R",
   "name": "ir"
  },
  "language_info": {
   "codemirror_mode": "r",
   "file_extension": ".r",
   "mimetype": "text/x-r-source",
   "name": "R",
   "pygments_lexer": "r",
   "version": "4.2.2"
  },
  "toc": {
   "base_numbering": 1,
   "nav_menu": {},
   "number_sections": true,
   "sideBar": true,
   "skip_h1_title": false,
   "title_cell": "Table of Contents",
   "title_sidebar": "Contents",
   "toc_cell": false,
   "toc_position": {},
   "toc_section_display": true,
   "toc_window_display": false
  }
 },
 "nbformat": 4,
 "nbformat_minor": 5
}
